{
 "cells": [
  {
   "cell_type": "markdown",
   "metadata": {},
   "source": [
    "**Below I've created a class for the integer linked list of digits, as well as functions to support creation and addition. I've also included a basevalue and digit-checking so these classes and functions can be used with different bases.** "
   ]
  },
  {
   "cell_type": "code",
   "execution_count": 70,
   "metadata": {},
   "outputs": [],
   "source": [
    "class Digit:\n",
    "    def __init__(self,digit):\n",
    "        self.value=digit\n",
    "        self.next=None\n",
    "\n",
    "    def __str__(self):\n",
    "        if self.value is not None:\n",
    "            return (f'{self.__class__.__name__}({self.value})')\n",
    "        else:\n",
    "            return None\n",
    "       \n",
    "class IntList:\n",
    "    def __init__(self,newnum=0,basevalue=10):\n",
    "        self.zeros=None\n",
    "        self.basevalue=basevalue\n",
    "        for digit in str(newnum):\n",
    "            digit=int(digit)\n",
    "            assert digit<basevalue, f'invalid digit: {digit} is not less than base value of {basevalue}'\n",
    "            d=Digit(digit)\n",
    "            d.next=self.zeros\n",
    "            self.zeros=d\n",
    "    \n",
    "    def __str__(self):\n",
    "        if self.zeros is not None:\n",
    "            printlist=','.join([str(x) for x in self])\n",
    "            return(f'{self.__class__.__name__}({printlist}))')\n",
    "        else:\n",
    "            return None\n",
    "       \n",
    "    def __iter__(self):\n",
    "        digit=self.zeros\n",
    "        while digit.next != None:\n",
    "            yield digit\n",
    "            digit=digit.next\n",
    "        yield digit\n",
    "           \n",
    "    def __add__(self, oIntList):\n",
    "        import itertools\n",
    "        assert self.basevalue==oIntList.basevalue, f'cannot add different bases: base1: {self.basevalue} base2: {oIntList.basevalue}'\n",
    "        sumIntList=IntList(0)   \n",
    "        sumZip=itertools.zip_longest(self,oIntList,fillvalue=Digit(0))\n",
    "        lastIntList=sumIntList.zeros\n",
    "        for (x,y) in sumZip:\n",
    "            sumD=(x.value+y.value+lastIntList.value)\n",
    "            sumInt= sumD % self.basevalue\n",
    "            carryInt= sumD // self.basevalue\n",
    "            #print(sumInt,carryInt)\n",
    "            lastIntList.value=sumInt\n",
    "            lastDigit=Digit(carryInt)\n",
    "            if carryInt>0:\n",
    "                sumIntList.append(lastDigit)\n",
    "            elif x.next is not None or y.next is not None:\n",
    "                sumIntList.append(lastDigit)\n",
    "            #print(sumIntList\n",
    "            lastIntList=lastDigit\n",
    "        return(sumIntList)\n",
    "       \n",
    "    def append(self,digit):\n",
    "        lastDigit=[x for x in self if x.next==None]\n",
    "        assert len(lastDigit)==1,\"malformed integer list\"\n",
    "        lastDigit=lastDigit[0]\n",
    "        lastDigit.next=digit\n",
    "        digit.next=None\n",
    "\n",
    "        "
   ]
  },
  {
   "cell_type": "markdown",
   "metadata": {},
   "source": [
    "**Following is an example of creating and adding several base 10 integers represented as linked lists:**"
   ]
  },
  {
   "cell_type": "code",
   "execution_count": 71,
   "metadata": {},
   "outputs": [
    {
     "name": "stdout",
     "output_type": "stream",
     "text": [
      "LI:\t\t IntList(Digit(9),Digit(7),Digit(4),Digit(5),Digit(6),Digit(7)))\n",
      "MI:\t\t IntList(Digit(1),Digit(0),Digit(1),Digit(1),Digit(1),Digit(1),Digit(1),Digit(1)))\n",
      "NI:\t\t IntList(Digit(9),Digit(9)))\n",
      "\n",
      "LI+MI:\t\t IntList(Digit(0),Digit(8),Digit(5),Digit(6),Digit(7),Digit(8),Digit(1),Digit(1)))\n",
      "LI+MI+NI:\t IntList(Digit(9),Digit(7),Digit(6),Digit(6),Digit(7),Digit(8),Digit(1),Digit(1)))\n"
     ]
    }
   ],
   "source": [
    "LI=IntList(765479)\n",
    "MI=IntList(11111101)\n",
    "NI=IntList(99)\n",
    "print(\"LI:\\t\\t\",LI)\n",
    "print(\"MI:\\t\\t\",MI)\n",
    "print(\"NI:\\t\\t\",NI)\n",
    "print()\n",
    "print(\"LI+MI:\\t\\t\",LI+MI)\n",
    "print(\"LI+MI+NI:\\t\",LI+MI+NI)"
   ]
  },
  {
   "cell_type": "markdown",
   "metadata": {},
   "source": [
    "**Following is an example of creating and adding two base 2 integers represented as linked lists:**"
   ]
  },
  {
   "cell_type": "code",
   "execution_count": 65,
   "metadata": {},
   "outputs": [
    {
     "name": "stdout",
     "output_type": "stream",
     "text": [
      "PI:\t IntList(Digit(1),Digit(0),Digit(1),Digit(1),Digit(1),Digit(1),Digit(1),Digit(0),Digit(1)))\n",
      "QI:\t IntList(Digit(1),Digit(1)))\n",
      "PI+QI:\t IntList(Digit(0),Digit(0),Digit(0),Digit(0),Digit(0),Digit(0),Digit(0),Digit(1),Digit(1)))\n"
     ]
    }
   ],
   "source": [
    "PI=IntList(101111101,2)\n",
    "QI=IntList(11,2)\n",
    "print(\"PI:\\t\",PI)\n",
    "print(\"QI:\\t\",QI)\n",
    "print(\"PI+QI:\\t\",PI+QI)"
   ]
  },
  {
   "cell_type": "markdown",
   "metadata": {},
   "source": [
    "**Trying to create an integer with invalid digits for the base gives an assertion error.**"
   ]
  },
  {
   "cell_type": "code",
   "execution_count": 72,
   "metadata": {},
   "outputs": [
    {
     "ename": "AssertionError",
     "evalue": "invalid digit: 4 is not less than base value of 3",
     "output_type": "error",
     "traceback": [
      "\u001b[0;31m---------------------------------------------------------------------------\u001b[0m",
      "\u001b[0;31mAssertionError\u001b[0m                            Traceback (most recent call last)",
      "\u001b[0;32m<ipython-input-72-59fba597d60b>\u001b[0m in \u001b[0;36m<module>\u001b[0;34m\u001b[0m\n\u001b[0;32m----> 1\u001b[0;31m \u001b[0mRI\u001b[0m\u001b[0;34m=\u001b[0m\u001b[0mIntList\u001b[0m\u001b[0;34m(\u001b[0m\u001b[0;36m456\u001b[0m\u001b[0;34m,\u001b[0m\u001b[0;36m3\u001b[0m\u001b[0;34m)\u001b[0m\u001b[0;34m\u001b[0m\u001b[0;34m\u001b[0m\u001b[0m\n\u001b[0m",
      "\u001b[0;32m<ipython-input-70-0b7a8119a2e8>\u001b[0m in \u001b[0;36m__init__\u001b[0;34m(self, newnum, basevalue)\u001b[0m\n\u001b[1;32m     16\u001b[0m         \u001b[0;32mfor\u001b[0m \u001b[0mdigit\u001b[0m \u001b[0;32min\u001b[0m \u001b[0mstr\u001b[0m\u001b[0;34m(\u001b[0m\u001b[0mnewnum\u001b[0m\u001b[0;34m)\u001b[0m\u001b[0;34m:\u001b[0m\u001b[0;34m\u001b[0m\u001b[0;34m\u001b[0m\u001b[0m\n\u001b[1;32m     17\u001b[0m             \u001b[0mdigit\u001b[0m\u001b[0;34m=\u001b[0m\u001b[0mint\u001b[0m\u001b[0;34m(\u001b[0m\u001b[0mdigit\u001b[0m\u001b[0;34m)\u001b[0m\u001b[0;34m\u001b[0m\u001b[0;34m\u001b[0m\u001b[0m\n\u001b[0;32m---> 18\u001b[0;31m             \u001b[0;32massert\u001b[0m \u001b[0mdigit\u001b[0m\u001b[0;34m<\u001b[0m\u001b[0mbasevalue\u001b[0m\u001b[0;34m,\u001b[0m \u001b[0;34mf'invalid digit: {digit} is not less than base value of {basevalue}'\u001b[0m\u001b[0;34m\u001b[0m\u001b[0;34m\u001b[0m\u001b[0m\n\u001b[0m\u001b[1;32m     19\u001b[0m             \u001b[0md\u001b[0m\u001b[0;34m=\u001b[0m\u001b[0mDigit\u001b[0m\u001b[0;34m(\u001b[0m\u001b[0mdigit\u001b[0m\u001b[0;34m)\u001b[0m\u001b[0;34m\u001b[0m\u001b[0;34m\u001b[0m\u001b[0m\n\u001b[1;32m     20\u001b[0m             \u001b[0md\u001b[0m\u001b[0;34m.\u001b[0m\u001b[0mnext\u001b[0m\u001b[0;34m=\u001b[0m\u001b[0mself\u001b[0m\u001b[0;34m.\u001b[0m\u001b[0mzeros\u001b[0m\u001b[0;34m\u001b[0m\u001b[0;34m\u001b[0m\u001b[0m\n",
      "\u001b[0;31mAssertionError\u001b[0m: invalid digit: 4 is not less than base value of 3"
     ]
    }
   ],
   "source": [
    "RI=IntList(456,3)"
   ]
  },
  {
   "cell_type": "markdown",
   "metadata": {},
   "source": [
    "**Trying to add IntLists representing integers of different bases causes an assertion error:**"
   ]
  },
  {
   "cell_type": "code",
   "execution_count": 73,
   "metadata": {},
   "outputs": [
    {
     "ename": "AssertionError",
     "evalue": "cannot add different bases: base1: 10 base2: 2",
     "output_type": "error",
     "traceback": [
      "\u001b[0;31m---------------------------------------------------------------------------\u001b[0m",
      "\u001b[0;31mAssertionError\u001b[0m                            Traceback (most recent call last)",
      "\u001b[0;32m<ipython-input-73-7ddf49b7d5ca>\u001b[0m in \u001b[0;36m<module>\u001b[0;34m\u001b[0m\n\u001b[0;32m----> 1\u001b[0;31m \u001b[0mprint\u001b[0m\u001b[0;34m(\u001b[0m\u001b[0mMI\u001b[0m\u001b[0;34m+\u001b[0m\u001b[0mPI\u001b[0m\u001b[0;34m)\u001b[0m\u001b[0;34m\u001b[0m\u001b[0;34m\u001b[0m\u001b[0m\n\u001b[0m",
      "\u001b[0;32m<ipython-input-70-0b7a8119a2e8>\u001b[0m in \u001b[0;36m__add__\u001b[0;34m(self, oIntList)\u001b[0m\n\u001b[1;32m     37\u001b[0m     \u001b[0;32mdef\u001b[0m \u001b[0m__add__\u001b[0m\u001b[0;34m(\u001b[0m\u001b[0mself\u001b[0m\u001b[0;34m,\u001b[0m \u001b[0moIntList\u001b[0m\u001b[0;34m)\u001b[0m\u001b[0;34m:\u001b[0m\u001b[0;34m\u001b[0m\u001b[0;34m\u001b[0m\u001b[0m\n\u001b[1;32m     38\u001b[0m         \u001b[0;32mimport\u001b[0m \u001b[0mitertools\u001b[0m\u001b[0;34m\u001b[0m\u001b[0;34m\u001b[0m\u001b[0m\n\u001b[0;32m---> 39\u001b[0;31m         \u001b[0;32massert\u001b[0m \u001b[0mself\u001b[0m\u001b[0;34m.\u001b[0m\u001b[0mbasevalue\u001b[0m\u001b[0;34m==\u001b[0m\u001b[0moIntList\u001b[0m\u001b[0;34m.\u001b[0m\u001b[0mbasevalue\u001b[0m\u001b[0;34m,\u001b[0m \u001b[0;34mf'cannot add different bases: base1: {self.basevalue} base2: {oIntList.basevalue}'\u001b[0m\u001b[0;34m\u001b[0m\u001b[0;34m\u001b[0m\u001b[0m\n\u001b[0m\u001b[1;32m     40\u001b[0m         \u001b[0msumIntList\u001b[0m\u001b[0;34m=\u001b[0m\u001b[0mIntList\u001b[0m\u001b[0;34m(\u001b[0m\u001b[0;36m0\u001b[0m\u001b[0;34m)\u001b[0m\u001b[0;34m\u001b[0m\u001b[0;34m\u001b[0m\u001b[0m\n\u001b[1;32m     41\u001b[0m         \u001b[0msumZip\u001b[0m\u001b[0;34m=\u001b[0m\u001b[0mitertools\u001b[0m\u001b[0;34m.\u001b[0m\u001b[0mzip_longest\u001b[0m\u001b[0;34m(\u001b[0m\u001b[0mself\u001b[0m\u001b[0;34m,\u001b[0m\u001b[0moIntList\u001b[0m\u001b[0;34m,\u001b[0m\u001b[0mfillvalue\u001b[0m\u001b[0;34m=\u001b[0m\u001b[0mDigit\u001b[0m\u001b[0;34m(\u001b[0m\u001b[0;36m0\u001b[0m\u001b[0;34m)\u001b[0m\u001b[0;34m)\u001b[0m\u001b[0;34m\u001b[0m\u001b[0;34m\u001b[0m\u001b[0m\n",
      "\u001b[0;31mAssertionError\u001b[0m: cannot add different bases: base1: 10 base2: 2"
     ]
    }
   ],
   "source": [
    "print(MI+PI)"
   ]
  }
 ],
 "metadata": {
  "kernelspec": {
   "display_name": "Python 3",
   "language": "python",
   "name": "python3"
  },
  "language_info": {
   "codemirror_mode": {
    "name": "ipython",
    "version": 3
   },
   "file_extension": ".py",
   "mimetype": "text/x-python",
   "name": "python",
   "nbconvert_exporter": "python",
   "pygments_lexer": "ipython3",
   "version": "3.7.6"
  }
 },
 "nbformat": 4,
 "nbformat_minor": 4
}
